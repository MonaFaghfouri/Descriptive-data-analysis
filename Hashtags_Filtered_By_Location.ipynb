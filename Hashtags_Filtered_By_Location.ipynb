{
  "nbformat": 4,
  "nbformat_minor": 0,
  "metadata": {
    "colab": {
      "provenance": [],
      "authorship_tag": "ABX9TyP9hNBuZe3IvasOyFEHx+os",
      "include_colab_link": true
    },
    "kernelspec": {
      "name": "python3",
      "display_name": "Python 3"
    },
    "language_info": {
      "name": "python"
    }
  },
  "cells": [
    {
      "cell_type": "markdown",
      "metadata": {
        "id": "view-in-github",
        "colab_type": "text"
      },
      "source": [
        "<a href=\"https://colab.research.google.com/github/MonaFaghfouri/Descriptive-data-analysis/blob/main/%D8%A2Hashtags_Filtered_By_Location.ipynb\" target=\"_parent\"><img src=\"https://colab.research.google.com/assets/colab-badge.svg\" alt=\"Open In Colab\"/></a>"
      ]
    },
    {
      "cell_type": "code",
      "source": [
        "import pandas as pd\n",
        "from collections import Counter\n",
        "from google.colab import files\n",
        "import re\n",
        "\n",
        "# Upload the file\n",
        "uploaded = files.upload()\n",
        "\n",
        "# Read the file name\n",
        "filename = list(uploaded.keys())[0]\n",
        "\n",
        "# Read the Excel file\n",
        "df = pd.read_excel(filename)\n",
        "\n",
        "# Ensure the sixth column exists\n",
        "if df.shape[1] < 6:\n",
        "    raise ValueError(\"Your file has less than 6 columns.\")\n",
        "\n",
        "# Extract the sixth column (index 5)\n",
        "text_column = df.iloc[:, 5].dropna().astype(str)\n",
        "\n",
        "# Tokenize words and count\n",
        "all_words = []\n",
        "for text in text_column:\n",
        "    words = re.findall(r'\\w+', text.lower())  # Remove punctuation and convert to lowercase\n",
        "    all_words.extend(words)\n",
        "\n",
        "word_counts = Counter(all_words)\n",
        "\n",
        "# Convert to DataFrame and sort\n",
        "word_freq_df = pd.DataFrame(word_counts.items(), columns=['کلمه', 'تعداد'])\n",
        "word_freq_df = word_freq_df.sort_values(by='تعداد', ascending=False)\n",
        "\n",
        "# Save to a new Excel file\n",
        "output_filename = 'word_frequencies.xlsx'\n",
        "word_freq_df.to_excel(output_filename, index=False)\n",
        "\n",
        "# Provide the file for download\n",
        "files.download(output_filename)\n"
      ],
      "metadata": {
        "id": "UOqSq-qtZE25"
      },
      "execution_count": null,
      "outputs": []
    },
    {
      "cell_type": "code",
      "source": [
        "# Install necessary libraries for Persian text support\n",
        "!pip install arabic_reshaper python-bidi -q\n",
        "\n",
        "# Upload font and data files\n",
        "from google.colab import files\n",
        "print(\"Upload your FONT file (e.g., Vazir.ttf):\")\n",
        "uploaded_font = files.upload()\n",
        "\n",
        "print(\"Upload your DATA file (e.g., Excel or CSV):\")\n",
        "uploaded_data = files.upload()\n",
        "\n",
        "# Import required libraries\n",
        "import pandas as pd\n",
        "import matplotlib.pyplot as plt\n",
        "import matplotlib.font_manager as fm\n",
        "import arabic_reshaper\n",
        "from bidi.algorithm import get_display\n",
        "import io\n",
        "\n",
        "# Load font\n",
        "font_filename = list(uploaded_font.keys())[0]\n",
        "font_prop = fm.FontProperties(fname=font_filename)\n",
        "\n",
        "# Determine uploaded data file format and read it\n",
        "data_filename = list(uploaded_data.keys())[0]\n",
        "if data_filename.endswith('.xlsx'):\n",
        "    df = pd.read_excel(io.BytesIO(uploaded_data[data_filename]))\n",
        "elif data_filename.endswith('.csv'):\n",
        "    df = pd.read_csv(io.BytesIO(uploaded_data[data_filename]))\n",
        "else:\n",
        "    raise ValueError(\"Unsupported file format. Please upload a .xlsx or .csv file.\")\n",
        "\n",
        "# Make sure column names are correct\n",
        "df.columns = [\"شهر\", \"فراوانی\"]\n",
        "\n",
        "# Reshape Persian text for correct display\n",
        "df[\"شهر\"] = df[\"شهر\"].apply(lambda x: get_display(arabic_reshaper.reshape(str(x))))\n",
        "\n",
        "# Plotting the bar chart\n",
        "plt.figure(figsize=(10, 6))\n",
        "bars = plt.bar(df[\"شهر\"], df[\"فراوانی\"], color='deeppink')  # Bright pink color\n",
        "\n",
        "# Add labels and title\n",
        "plt.xlabel(get_display(arabic_reshaper.reshape(\"شهر\")), fontproperties=font_prop)\n",
        "plt.ylabel(get_display(arabic_reshaper.reshape(\"فراوانی\")), fontproperties=font_prop)\n",
        "plt.title(get_display(arabic_reshaper.reshape(\"نمودار فراوانی بر اساس شهر\")), fontproperties=font_prop)\n",
        "\n",
        "# Set font for ticks\n",
        "plt.xticks(rotation=45, ha='right', fontproperties=font_prop)\n",
        "plt.yticks(fontproperties=font_prop)\n",
        "\n",
        "# Annotate bars with values\n",
        "for bar in bars:\n",
        "    yval = bar.get_height()\n",
        "    plt.text(bar.get_x() + bar.get_width()/2, yval + 50, f'{yval}',\n",
        "             ha='center', va='bottom', fontproperties=font_prop, fontsize=10)\n",
        "\n",
        "# Save the plot as PNG\n",
        "plt.tight_layout()\n",
        "plt.savefig(\"bar_chart.png\", dpi=300)\n",
        "plt.show()\n",
        "\n",
        "# Auto-download the saved image\n",
        "files.download(\"bar_chart.png\")\n"
      ],
      "metadata": {
        "id": "3bghx9j5NFeo"
      },
      "execution_count": null,
      "outputs": []
    }
  ]
}
