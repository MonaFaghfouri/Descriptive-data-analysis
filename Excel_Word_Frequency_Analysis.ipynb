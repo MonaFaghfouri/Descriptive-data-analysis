{
  "nbformat": 4,
  "nbformat_minor": 0,
  "metadata": {
    "colab": {
      "provenance": [],
      "authorship_tag": "ABX9TyOzyOQf/cc4QxXiFEMe/SqJ",
      "include_colab_link": true
    },
    "kernelspec": {
      "name": "python3",
      "display_name": "Python 3"
    },
    "language_info": {
      "name": "python"
    }
  },
  "cells": [
    {
      "cell_type": "markdown",
      "metadata": {
        "id": "view-in-github",
        "colab_type": "text"
      },
      "source": [
        "<a href=\"https://colab.research.google.com/github/MonaFaghfouri/Descriptive-data-analysis/blob/main/Excel_Word_Frequency_Analysis.ipynb\" target=\"_parent\"><img src=\"https://colab.research.google.com/assets/colab-badge.svg\" alt=\"Open In Colab\"/></a>"
      ]
    },
    {
      "cell_type": "code",
      "execution_count": null,
      "metadata": {
        "id": "n_2Fpfdu5AD4"
      },
      "outputs": [],
      "source": [
        "\n",
        "import pandas as pd\n",
        "from collections import Counter\n",
        "import ast\n",
        "from google.colab import files\n",
        "\n",
        "# Upload Excel file\n",
        "uploaded = files.upload()\n",
        "\n",
        "# Get filename\n",
        "filename = list(uploaded.keys())[0]\n",
        "\n",
        "# Read Excel file\n",
        "df = pd.read_excel(filename)\n",
        "\n",
        "# List to store all words\n",
        "all_words = []\n",
        "\n",
        "# Read data from the second column (index 1)\n",
        "for cell in df.iloc[:, 1]:  # Second column\n",
        "    if isinstance(cell, str):\n",
        "        try:\n",
        "            words = ast.literal_eval(cell)  # Convert string to list\n",
        "            if isinstance(words, list):\n",
        "                # Clean each word by stripping ' or \"\n",
        "                clean_words = [str(word).strip(\"'\\\"\") for word in words]\n",
        "                all_words.extend(clean_words)\n",
        "        except:\n",
        "            pass\n",
        "\n",
        "# Count frequency of each word\n",
        "word_counts = Counter(all_words)\n",
        "\n",
        "# Create DataFrame from results\n",
        "result_df = pd.DataFrame(word_counts.items(), columns=[\"Word\", \"Count\"])\n",
        "result_df = result_df.sort_values(by=\"Count\", ascending=False)\n",
        "\n",
        "# Save to Excel file\n",
        "output_filename = \"word_counts_sorted.xlsx\"\n",
        "result_df.to_excel(output_filename, index=False)\n",
        "\n",
        "# Download output file\n",
        "files.download(output_filename)\n"
      ]
    }
  ]
}