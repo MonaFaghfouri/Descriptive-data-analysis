{
  "nbformat": 4,
  "nbformat_minor": 0,
  "metadata": {
    "colab": {
      "provenance": [],
      "authorship_tag": "ABX9TyOFq16Zym9O+OijSE3lY3Cw",
      "include_colab_link": true
    },
    "kernelspec": {
      "name": "python3",
      "display_name": "Python 3"
    },
    "language_info": {
      "name": "python"
    }
  },
  "cells": [
    {
      "cell_type": "markdown",
      "metadata": {
        "id": "view-in-github",
        "colab_type": "text"
      },
      "source": [
        "<a href=\"https://colab.research.google.com/github/MonaFaghfouri/Descriptive-data-analysis/blob/main/word_cloud.ipynb\" target=\"_parent\"><img src=\"https://colab.research.google.com/assets/colab-badge.svg\" alt=\"Open In Colab\"/></a>"
      ]
    },
    {
      "cell_type": "code",
      "source": [
        "# Import necessary libraries\n",
        "import pandas as pd\n",
        "import matplotlib.pyplot as plt\n",
        "from wordcloud import WordCloud\n",
        "from google.colab import files  # For file upload and download\n",
        "import io\n",
        "import random\n",
        "\n",
        "# Upload Excel file first\n",
        "print(\"Please upload your Excel file:\")\n",
        "uploaded_excel = files.upload()\n",
        "\n",
        "# Get the Excel file name\n",
        "excel_file = next(iter(uploaded_excel))\n",
        "\n",
        "# Upload font file next\n",
        "print(\"Please upload your TTF font file:\")\n",
        "uploaded_font = files.upload()\n",
        "\n",
        "# Get the font file name\n",
        "font_file = next(iter(uploaded_font))\n",
        "\n",
        "# Load the Excel file into a DataFrame\n",
        "excel_data = pd.read_excel(io.BytesIO(uploaded_excel[excel_file]))\n",
        "\n",
        "# Print column names to help debug if needed\n",
        "print(\"Excel columns:\", excel_data.columns.tolist())\n",
        "\n",
        "# Check for required columns\n",
        "if 'word' not in excel_data.columns or 'frequency' not in excel_data.columns:\n",
        "    raise ValueError(\"The Excel file must contain 'word' and 'frequency' columns.\")\n",
        "\n",
        "# Create a dictionary of word frequencies\n",
        "word_freq = dict(zip(excel_data['word'], excel_data['frequency']))\n",
        "\n",
        "# Define a color function for colorful words\n",
        "def colorful_color_func(word, font_size, position, orientation, random_state=None, **kwargs):\n",
        "    colors = [\n",
        "        \"red\", \"blue\", \"green\", \"orange\", \"purple\", \"brown\",\n",
        "        \"darkcyan\", \"crimson\", \"darkgreen\", \"goldenrod\", \"teal\", \"indigo\"\n",
        "    ]\n",
        "    return random.choice(colors)\n",
        "\n",
        "# Generate the word cloud with custom colors\n",
        "wordcloud = WordCloud(\n",
        "    font_path=font_file,\n",
        "    width=1000,\n",
        "    height=500,\n",
        "    background_color='white',\n",
        "    color_func=colorful_color_func\n",
        ").generate_from_frequencies(word_freq)\n",
        "\n",
        "# Save the word cloud to a file\n",
        "output_filename = \"wordcloud_output.png\"\n",
        "wordcloud.to_file(output_filename)\n",
        "\n",
        "# Display the word cloud\n",
        "plt.figure(figsize=(15, 7))\n",
        "plt.imshow(wordcloud, interpolation='bilinear')\n",
        "plt.axis('off')\n",
        "plt.title(\"Word cloud of frequently used environmental words\")\n",
        "plt.show()\n",
        "\n",
        "# Automatically trigger download\n",
        "files.download(output_filename)\n"
      ],
      "metadata": {
        "id": "uPoXRkWqXKS5"
      },
      "execution_count": null,
      "outputs": []
    }
  ]
}